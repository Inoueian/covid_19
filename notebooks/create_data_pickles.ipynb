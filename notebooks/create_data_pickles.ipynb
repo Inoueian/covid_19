{
 "cells": [
  {
   "cell_type": "code",
   "execution_count": 1,
   "metadata": {},
   "outputs": [],
   "source": [
    "from collections import defaultdict\n",
    "import pickle\n",
    "from datetime import datetime, timedelta\n",
    "\n",
    "import pandas as pd"
   ]
  },
  {
   "cell_type": "markdown",
   "metadata": {},
   "source": [
    "### Chicago\n",
    "Data source for Chicago:\n",
    "\n",
    "https://www.chicago.gov/city/en/sites/covid-19/home/latest-data.html\n",
    "\n",
    "There is also a CSV at https://data.cityofchicago.org/Health-Human-Services/Daily-COVID-19-Cases-and-Deaths/kxzd-kd6a, but this appears to be based on reported dates for deaths, which is not clean."
   ]
  },
  {
   "cell_type": "markdown",
   "metadata": {},
   "source": [
    "Create a dict of the form {days from Feb 29: number of deaths}, and save it as a pandas DataFrame starting with Feb 1 to the end of the dict."
   ]
  },
  {
   "cell_type": "code",
   "execution_count": 20,
   "metadata": {},
   "outputs": [],
   "source": [
    "chi_death_dict = defaultdict(int, {16: 1, 17: 1, 18: 1, 19: 2, 21: 2,\n",
    "                                   22: 2, 23: 2, 24: 2, 25: 5, 26: 2,\n",
    "                                   27: 8, 28: 4, 29: 21, 30: 12,\n",
    "                                   31: 16, 32: 24, 33: 14, 34: 24,\n",
    "                                   35: 21, 36: 26, 37: 22, 38: 25,\n",
    "                                   39: 34, 40: 25, 41: 31, 42: 32,\n",
    "                                   43: 33, 44: 31, 45: 34, 46: 31,\n",
    "                                   47: 30, 48: 40, 49: 37, 50: 35,\n",
    "                                   51: 37, 52: 34, 53: 44, 54: 34,\n",
    "                                   55: 50, 56: 40, 57: 48, 58: 36,\n",
    "                                   59: 54, 60: 40, 61: 37, 62: 38,\n",
    "                                   63: 48, 64: 41, 65: 47, 66: 56,\n",
    "                                   67: 44, 68: 48, 69: 42, 70: 48,\n",
    "                                   71: 37, 72: 39, 73: 47, 74: 40,\n",
    "                                   75: 40, 76: 47, 77: 28, 78: 35,\n",
    "                                   79: 32, 80: 27, 81: 25, 82: 30,\n",
    "                                   83: 30, 84: 23, 85: 15, 86: 16,\n",
    "                                   87: 9})"
   ]
  },
  {
   "cell_type": "code",
   "execution_count": 21,
   "metadata": {},
   "outputs": [],
   "source": [
    "chi_last_day = max(chi_death_dict.keys())"
   ]
  },
  {
   "cell_type": "code",
   "execution_count": 22,
   "metadata": {},
   "outputs": [],
   "source": [
    "chi_index = [datetime(2020, 2, 1) + timedelta(days=day) for day in range(29 + chi_last_day)]\n",
    "chi_deaths =[chi_death_dict[day - 28] for day in range(29 + chi_last_day)]"
   ]
  },
  {
   "cell_type": "code",
   "execution_count": 23,
   "metadata": {},
   "outputs": [],
   "source": [
    "chi_death_df = pd.DataFrame(chi_deaths, index=chi_index, columns=['deaths'])"
   ]
  },
  {
   "cell_type": "code",
   "execution_count": 24,
   "metadata": {},
   "outputs": [
    {
     "data": {
      "text/html": [
       "<div>\n",
       "<style scoped>\n",
       "    .dataframe tbody tr th:only-of-type {\n",
       "        vertical-align: middle;\n",
       "    }\n",
       "\n",
       "    .dataframe tbody tr th {\n",
       "        vertical-align: top;\n",
       "    }\n",
       "\n",
       "    .dataframe thead th {\n",
       "        text-align: right;\n",
       "    }\n",
       "</style>\n",
       "<table border=\"1\" class=\"dataframe\">\n",
       "  <thead>\n",
       "    <tr style=\"text-align: right;\">\n",
       "      <th></th>\n",
       "      <th>deaths</th>\n",
       "    </tr>\n",
       "  </thead>\n",
       "  <tbody>\n",
       "    <tr>\n",
       "      <th>2020-05-22</th>\n",
       "      <td>30</td>\n",
       "    </tr>\n",
       "    <tr>\n",
       "      <th>2020-05-23</th>\n",
       "      <td>23</td>\n",
       "    </tr>\n",
       "    <tr>\n",
       "      <th>2020-05-24</th>\n",
       "      <td>15</td>\n",
       "    </tr>\n",
       "    <tr>\n",
       "      <th>2020-05-25</th>\n",
       "      <td>16</td>\n",
       "    </tr>\n",
       "    <tr>\n",
       "      <th>2020-05-26</th>\n",
       "      <td>9</td>\n",
       "    </tr>\n",
       "  </tbody>\n",
       "</table>\n",
       "</div>"
      ],
      "text/plain": [
       "            deaths\n",
       "2020-05-22      30\n",
       "2020-05-23      23\n",
       "2020-05-24      15\n",
       "2020-05-25      16\n",
       "2020-05-26       9"
      ]
     },
     "execution_count": 24,
     "metadata": {},
     "output_type": "execute_result"
    }
   ],
   "source": [
    "# Inspect that last few days\n",
    "chi_death_df.tail()"
   ]
  },
  {
   "cell_type": "code",
   "execution_count": 25,
   "metadata": {},
   "outputs": [],
   "source": [
    "chi_death_df.to_pickle('../data/chi_deaths.pickle')"
   ]
  },
  {
   "cell_type": "code",
   "execution_count": null,
   "metadata": {},
   "outputs": [],
   "source": []
  }
 ],
 "metadata": {
  "kernelspec": {
   "display_name": "Python [conda env:pymc] *",
   "language": "python",
   "name": "conda-env-pymc-py"
  },
  "language_info": {
   "codemirror_mode": {
    "name": "ipython",
    "version": 3
   },
   "file_extension": ".py",
   "mimetype": "text/x-python",
   "name": "python",
   "nbconvert_exporter": "python",
   "pygments_lexer": "ipython3",
   "version": "3.8.2"
  }
 },
 "nbformat": 4,
 "nbformat_minor": 4
}
