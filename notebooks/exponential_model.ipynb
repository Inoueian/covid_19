{
 "cells": [
  {
   "cell_type": "markdown",
   "metadata": {},
   "source": [
    "## Model description"
   ]
  },
  {
   "cell_type": "markdown",
   "metadata": {},
   "source": [
    "This is the simplest model that I have made that is even somewhat accurate, at least when the conditions stay essentially constant.\n",
    "\n",
    "1. There is an initial number of new infections on the 0th day.\n",
    "2. Number of new infections grow exponentially, with some constant rate.\n",
    "3. A fraction (IFR) of new infections are expected to turn into deaths.\n",
    "4. Deaths occur after an incubation period then a delay time from illness onset to death. These periods have predefined distributions, and the number of expected deaths on a given date is a convolution of the new infection over time with these 2 distributions.\n",
    "5. Given the number of expected deaths on each day, the number of deaths is modeled as a Poisson process, and fit to the data."
   ]
  },
  {
   "cell_type": "code",
   "execution_count": 1,
   "metadata": {},
   "outputs": [],
   "source": [
    "from collections import defaultdict\n",
    "\n",
    "import numpy as np\n",
    "import pandas as pd\n",
    "import matplotlib.pyplot as plt\n",
    "import pymc3 as pm\n",
    "\n",
    "from covid_19.covid_func import create_delay_matrix, gamma_pdf, lognorm_pdf"
   ]
  },
  {
   "cell_type": "markdown",
   "metadata": {},
   "source": [
    "Data source for Chicago:\n",
    "\n",
    "https://www.chicago.gov/city/en/sites/covid-19/home/latest-data.html\n",
    "\n",
    "Pickle file is created in `create_data_pickles.ipynb` notebook.\n",
    "\n",
    "Note that these numbers for Chicago do get updated even more than a week after the fact. It appears that they are trying to record accurate dates for these deaths, rather than simply keeping track of when they were reported/announced. This is not always the case for other agencies."
   ]
  },
  {
   "cell_type": "code",
   "execution_count": 2,
   "metadata": {},
   "outputs": [],
   "source": [
    "death_df = pd.read_pickle('../data/chi_deaths.pickle')"
   ]
  },
  {
   "cell_type": "code",
   "execution_count": 3,
   "metadata": {},
   "outputs": [
    {
     "data": {
      "text/html": [
       "<div>\n",
       "<style scoped>\n",
       "    .dataframe tbody tr th:only-of-type {\n",
       "        vertical-align: middle;\n",
       "    }\n",
       "\n",
       "    .dataframe tbody tr th {\n",
       "        vertical-align: top;\n",
       "    }\n",
       "\n",
       "    .dataframe thead th {\n",
       "        text-align: right;\n",
       "    }\n",
       "</style>\n",
       "<table border=\"1\" class=\"dataframe\">\n",
       "  <thead>\n",
       "    <tr style=\"text-align: right;\">\n",
       "      <th></th>\n",
       "      <th>deaths</th>\n",
       "    </tr>\n",
       "  </thead>\n",
       "  <tbody>\n",
       "    <tr>\n",
       "      <th>2020-04-03</th>\n",
       "      <td>25</td>\n",
       "    </tr>\n",
       "    <tr>\n",
       "      <th>2020-04-04</th>\n",
       "      <td>19</td>\n",
       "    </tr>\n",
       "    <tr>\n",
       "      <th>2020-04-05</th>\n",
       "      <td>27</td>\n",
       "    </tr>\n",
       "    <tr>\n",
       "      <th>2020-04-06</th>\n",
       "      <td>15</td>\n",
       "    </tr>\n",
       "    <tr>\n",
       "      <th>2020-04-07</th>\n",
       "      <td>21</td>\n",
       "    </tr>\n",
       "    <tr>\n",
       "      <th>2020-04-08</th>\n",
       "      <td>30</td>\n",
       "    </tr>\n",
       "    <tr>\n",
       "      <th>2020-04-09</th>\n",
       "      <td>17</td>\n",
       "    </tr>\n",
       "    <tr>\n",
       "      <th>2020-04-10</th>\n",
       "      <td>19</td>\n",
       "    </tr>\n",
       "    <tr>\n",
       "      <th>2020-04-11</th>\n",
       "      <td>13</td>\n",
       "    </tr>\n",
       "    <tr>\n",
       "      <th>2020-04-12</th>\n",
       "      <td>13</td>\n",
       "    </tr>\n",
       "  </tbody>\n",
       "</table>\n",
       "</div>"
      ],
      "text/plain": [
       "            deaths\n",
       "2020-04-03      25\n",
       "2020-04-04      19\n",
       "2020-04-05      27\n",
       "2020-04-06      15\n",
       "2020-04-07      21\n",
       "2020-04-08      30\n",
       "2020-04-09      17\n",
       "2020-04-10      19\n",
       "2020-04-11      13\n",
       "2020-04-12      13"
      ]
     },
     "execution_count": 3,
     "metadata": {},
     "output_type": "execute_result"
    }
   ],
   "source": [
    "death_df.iloc[-10:]"
   ]
  },
  {
   "cell_type": "code",
   "execution_count": 4,
   "metadata": {},
   "outputs": [],
   "source": [
    "# Drop later rows when it appears that they have not been updated fully\n",
    "death_df = death_df.iloc[:-4]"
   ]
  },
  {
   "cell_type": "code",
   "execution_count": 5,
   "metadata": {},
   "outputs": [],
   "source": [
    "num_days = len(death_df)"
   ]
  },
  {
   "cell_type": "code",
   "execution_count": 6,
   "metadata": {},
   "outputs": [],
   "source": [
    "death_array = death_df['deaths']"
   ]
  },
  {
   "cell_type": "code",
   "execution_count": 7,
   "metadata": {},
   "outputs": [],
   "source": [
    "death_list = list(death_array)"
   ]
  },
  {
   "cell_type": "markdown",
   "metadata": {},
   "source": [
    "#### Do a convolution"
   ]
  },
  {
   "cell_type": "markdown",
   "metadata": {},
   "source": [
    "Incubation period from https://www.mdpi.com/2077-0383/9/2/538:\n",
    "\n",
    "Lognormal distribution with mean 5.6 days, SD 2.8 days."
   ]
  },
  {
   "cell_type": "code",
   "execution_count": 8,
   "metadata": {},
   "outputs": [],
   "source": [
    "# Use lognorm_pdf function defined in covid_func.py\n",
    "mean_i = 5.6\n",
    "sd_i = 2.8\n",
    "\n",
    "incubation_pdf = lognorm_pdf(mean_i, sd_i)"
   ]
  },
  {
   "cell_type": "code",
   "execution_count": 9,
   "metadata": {},
   "outputs": [],
   "source": [
    "incubation_array = np.array([incubation_pdf(x) for x in range(num_days)])"
   ]
  },
  {
   "cell_type": "markdown",
   "metadata": {},
   "source": [
    "Onset-to-death delay from https://www.sciencedirect.com/science/article/pii/S1473309920302437\n",
    "\n",
    "Gamma function with mean 17.8 days, coefficient of variation 0.45."
   ]
  },
  {
   "cell_type": "code",
   "execution_count": 10,
   "metadata": {},
   "outputs": [],
   "source": [
    "# Use gamma_pdf function defined in covid_func.py\n",
    "mean_d = 17.8\n",
    "cov_d = 0.45\n",
    "sd_d = mean_d * cov_d\n",
    "\n",
    "delay_pdf = gamma_pdf(mean_d, sd_d)"
   ]
  },
  {
   "cell_type": "code",
   "execution_count": 11,
   "metadata": {},
   "outputs": [],
   "source": [
    "delay_array = np.array([delay_pdf(x) for x in range(num_days)])"
   ]
  },
  {
   "cell_type": "markdown",
   "metadata": {},
   "source": [
    "Given an array of infections, create a transfer matrix that turns it in to an array of cases with symptoms. The function to do this is defined in `covid_func.py`.\n",
    "\n",
    "This is not exactly correct, as it ignores asymptotic cases, but I will multiply the whole array by the infection fatality rate (IFR) so the final answer will be modeled correctly."
   ]
  },
  {
   "cell_type": "code",
   "execution_count": 12,
   "metadata": {},
   "outputs": [],
   "source": [
    "incubation_mat = create_delay_matrix(incubation_array, num_days)"
   ]
  },
  {
   "cell_type": "markdown",
   "metadata": {},
   "source": [
    "It looks like this."
   ]
  },
  {
   "cell_type": "code",
   "execution_count": 13,
   "metadata": {},
   "outputs": [
    {
     "data": {
      "text/plain": [
       "array([[0.        , 0.00251436, 0.06388876, 0.15624861, 0.18851108],\n",
       "       [0.        , 0.        , 0.00251436, 0.06388876, 0.15624861],\n",
       "       [0.        , 0.        , 0.        , 0.00251436, 0.06388876],\n",
       "       [0.        , 0.        , 0.        , 0.        , 0.00251436],\n",
       "       [0.        , 0.        , 0.        , 0.        , 0.        ]])"
      ]
     },
     "execution_count": 13,
     "metadata": {},
     "output_type": "execute_result"
    }
   ],
   "source": [
    "incubation_mat[:5,:5]"
   ]
  },
  {
   "cell_type": "markdown",
   "metadata": {},
   "source": [
    "Similarly"
   ]
  },
  {
   "cell_type": "code",
   "execution_count": 14,
   "metadata": {},
   "outputs": [],
   "source": [
    "delay_mat = create_delay_matrix(delay_array, num_days)"
   ]
  },
  {
   "cell_type": "code",
   "execution_count": 15,
   "metadata": {},
   "outputs": [],
   "source": [
    "transfer_mat = np.matmul(incubation_mat, delay_mat)"
   ]
  },
  {
   "cell_type": "code",
   "execution_count": 16,
   "metadata": {},
   "outputs": [
    {
     "data": {
      "text/plain": [
       "array([[0.00000000e+00, 0.00000000e+00, 1.54906608e-07, ...,\n",
       "        7.04330718e-05, 5.72822826e-05, 4.65339007e-05],\n",
       "       [0.00000000e+00, 0.00000000e+00, 0.00000000e+00, ...,\n",
       "        8.65009594e-05, 7.04330718e-05, 5.72822826e-05],\n",
       "       [0.00000000e+00, 0.00000000e+00, 0.00000000e+00, ...,\n",
       "        1.06104763e-04, 8.65009594e-05, 7.04330718e-05],\n",
       "       ...,\n",
       "       [0.00000000e+00, 0.00000000e+00, 0.00000000e+00, ...,\n",
       "        0.00000000e+00, 0.00000000e+00, 1.54906608e-07],\n",
       "       [0.00000000e+00, 0.00000000e+00, 0.00000000e+00, ...,\n",
       "        0.00000000e+00, 0.00000000e+00, 0.00000000e+00],\n",
       "       [0.00000000e+00, 0.00000000e+00, 0.00000000e+00, ...,\n",
       "        0.00000000e+00, 0.00000000e+00, 0.00000000e+00]])"
      ]
     },
     "execution_count": 16,
     "metadata": {},
     "output_type": "execute_result"
    }
   ],
   "source": [
    "transfer_mat"
   ]
  },
  {
   "cell_type": "markdown",
   "metadata": {},
   "source": [
    "#### Set up the model"
   ]
  },
  {
   "cell_type": "code",
   "execution_count": 29,
   "metadata": {},
   "outputs": [],
   "source": [
    "with pm.Model() as model:\n",
    "    # There is some initial number of cases\n",
    "    # The prior is an exponential distribution with mean 1.\n",
    "    N_0 = pm.Exponential('initial', lam=1)\n",
    "    \n",
    "    # Growth rate is assumed to be constant\n",
    "    # The prior is a wide normal distribution\n",
    "    coef = pm.Normal('growth_constant', mu=0.3, sd=1)\n",
    "    \n",
    "    # Cases grow Exponentially\n",
    "    N = N_0 * pm.math.exp(coef * (np.arange(num_days)))\n",
    "\n",
    "    # IFR is calculated using \n",
    "    # https://www.sciencedirect.com/science/article/pii/S1473309920302437\n",
    "    # and the population by age in the US\n",
    "    IFR = 0.0095\n",
    "\n",
    "    # Model proceeds as new infections -> expected new patients\n",
    "    #                                  -> expected new deaths,\n",
    "    # using the transfer matrices and the IFR\n",
    "    exp_deaths = IFR * pm.math.matrix_dot(N, transfer_mat)"
   ]
  },
  {
   "cell_type": "code",
   "execution_count": 30,
   "metadata": {},
   "outputs": [],
   "source": [
    "with model:\n",
    "    # Given expected numbers of deaths,\n",
    "    # fit to the data assuming this is a Poisson process for each day.\n",
    "    D = pm.Poisson('deaths', mu=exp_deaths, observed=death_list)"
   ]
  },
  {
   "cell_type": "markdown",
   "metadata": {},
   "source": [
    "#### Perform inference"
   ]
  },
  {
   "cell_type": "code",
   "execution_count": 31,
   "metadata": {},
   "outputs": [
    {
     "name": "stderr",
     "output_type": "stream",
     "text": [
      "Auto-assigning NUTS sampler...\n",
      "Initializing NUTS using jitter+adapt_diag...\n",
      "Multiprocess sampling (2 chains in 2 jobs)\n",
      "NUTS: [growth_constant, initial]\n",
      "Sampling 2 chains, 0 divergences: 100%|██████████| 40000/40000 [01:00<00:00, 661.40draws/s] \n",
      "The number of effective samples is smaller than 25% for some parameters.\n"
     ]
    }
   ],
   "source": [
    "with model:\n",
    "    # Monte Carlo sampling to find the posterior distribution numerically\n",
    "    step = pm.NUTS()\n",
    "    trace = pm.sample(10000, tune=10000)"
   ]
  },
  {
   "cell_type": "markdown",
   "metadata": {},
   "source": [
    "I sometimes get divergences. This is not a good sign, and I welcome any ideas for avoiding them."
   ]
  },
  {
   "cell_type": "markdown",
   "metadata": {},
   "source": [
    "#### Plot results"
   ]
  },
  {
   "cell_type": "markdown",
   "metadata": {},
   "source": [
    "Plot the results of the inference for the 2 undetermined parameters."
   ]
  },
  {
   "cell_type": "code",
   "execution_count": 32,
   "metadata": {},
   "outputs": [
    {
     "name": "stderr",
     "output_type": "stream",
     "text": [
      "/Users/satoru/miniconda3/envs/pymc/lib/python3.8/site-packages/arviz/plots/backends/matplotlib/distplot.py:36: UserWarning: Argument backend_kwargs has not effect in matplotlib.plot_distSupplied value won't be used\n",
      "  warnings.warn(\n",
      "/Users/satoru/miniconda3/envs/pymc/lib/python3.8/site-packages/arviz/plots/backends/matplotlib/distplot.py:36: UserWarning: Argument backend_kwargs has not effect in matplotlib.plot_distSupplied value won't be used\n",
      "  warnings.warn(\n",
      "/Users/satoru/miniconda3/envs/pymc/lib/python3.8/site-packages/arviz/plots/backends/matplotlib/distplot.py:36: UserWarning: Argument backend_kwargs has not effect in matplotlib.plot_distSupplied value won't be used\n",
      "  warnings.warn(\n",
      "/Users/satoru/miniconda3/envs/pymc/lib/python3.8/site-packages/arviz/plots/backends/matplotlib/distplot.py:36: UserWarning: Argument backend_kwargs has not effect in matplotlib.plot_distSupplied value won't be used\n",
      "  warnings.warn(\n"
     ]
    },
    {
     "data": {
      "image/png": "[encoded data removed]",
      "text/plain": [
       "<Figure size 864x288 with 4 Axes>"
      ]
     },
     "metadata": {
      "needs_background": "light"
     },
     "output_type": "display_data"
    }
   ],
   "source": [
    "pm.traceplot(trace)\n",
    "plt.show()"
   ]
  },
  {
   "cell_type": "markdown",
   "metadata": {},
   "source": [
    "Create arrays of all the simulation results."
   ]
  },
  {
   "cell_type": "code",
   "execution_count": 33,
   "metadata": {},
   "outputs": [],
   "source": [
    "initial_array = np.array(trace['initial'])\n",
    "growth_array = np.array(trace['growth_constant'])\n",
    "doubling_array = np.log(2) / growth_array"
   ]
  },
  {
   "cell_type": "markdown",
   "metadata": {},
   "source": [
    "Plot the histogram of doubling times."
   ]
  },
  {
   "cell_type": "code",
   "execution_count": 34,
   "metadata": {},
   "outputs": [
    {
     "data": {
      "image/png": "[encoded data removed]",
      "text/plain": [
       "<Figure size 432x288 with 1 Axes>"
      ]
     },
     "metadata": {
      "needs_background": "light"
     },
     "output_type": "display_data"
    }
   ],
   "source": [
    "plt.hist(doubling_array, bins=np.arange(3., 6., 0.1))\n",
    "plt.xlabel('Doubling time in days')\n",
    "plt.ylabel('Number of simulations')\n",
    "plt.show()"
   ]
  },
  {
   "cell_type": "markdown",
   "metadata": {},
   "source": [
    "Calculate the predicted number of infections for all dates, for each simulation."
   ]
  },
  {
   "cell_type": "code",
   "execution_count": null,
   "metadata": {},
   "outputs": [],
   "source": [
    "def get_array_at_t(time,\n",
    "                   initial_array=initial_array,\n",
    "                   growth_array=growth_array):\n",
    "    array_at_t = initial_array * np.exp(growth_array * time)\n",
    "    return array_at_t"
   ]
  },
  {
   "cell_type": "code",
   "execution_count": null,
   "metadata": {},
   "outputs": [],
   "source": [
    "def get_mean_at_t(time,\n",
    "                  initial_array=initial_array,\n",
    "                  growth_array=growth_array):\n",
    "    array_at_t = get_array_at_t(time,\n",
    "                                initial_array=initial_array,\n",
    "                                growth_array=growth_array)\n",
    "    return np.mean(array_at_t)"
   ]
  },
  {
   "cell_type": "code",
   "execution_count": null,
   "metadata": {},
   "outputs": [],
   "source": [
    "def get_percentile_at_t(time, percent,\n",
    "                        initial_array=initial_array,\n",
    "                        growth_array=growth_array):\n",
    "    array_at_t = get_array_at_t(time,\n",
    "                                initial_array=initial_array,\n",
    "                                growth_array=growth_array)\n",
    "    return np.percentile(array_at_t, q=percent)"
   ]
  },
  {
   "cell_type": "code",
   "execution_count": null,
   "metadata": {},
   "outputs": [],
   "source": [
    "x = np.arange(29, 69)\n",
    "y_median = np.array([get_percentile_at_t(time, 50)\n",
    "                     for time in x])\n",
    "y_25 = np.array([get_percentile_at_t(time, 25)\n",
    "                  for time in x])\n",
    "y_75 = np.array([get_percentile_at_t(time, 75)\n",
    "                  for time in x])\n",
    "plt.plot(x, y_median, label='Median estimate')\n",
    "plt.plot(x, y_25, label='25% percentile estimate')\n",
    "plt.plot(x, y_75, label='75% percentile estimate')\n",
    "plt.xlabel('Days since February 1')\n",
    "plt.ylabel('Total infections in Chicago')\n",
    "plt.legend()\n",
    "# plt.yscale('log')\n",
    "plt.show()"
   ]
  },
  {
   "cell_type": "markdown",
   "metadata": {},
   "source": [
    "This is still an unrealistic model, because it assumes that the growth keeps going forever."
   ]
  },
  {
   "cell_type": "markdown",
   "metadata": {},
   "source": [
    "Plot the first 17 days of March though. This should be fairly reliable."
   ]
  },
  {
   "cell_type": "code",
   "execution_count": null,
   "metadata": {},
   "outputs": [],
   "source": [
    "x = np.arange(29, 29 + 17)\n",
    "y_median = np.array([get_percentile_at_t(time, 50)\n",
    "                   for time in x])\n",
    "y_25 = np.array([get_percentile_at_t(time, 25)\n",
    "                  for time in x])\n",
    "y_75 = np.array([get_percentile_at_t(time, 75)\n",
    "                  for time in x])\n",
    "plt.plot(x, y_median, label='Mean estimate')\n",
    "plt.plot(x, y_25, label='25% percentile estimate')\n",
    "plt.plot(x, y_75, label='75% percentile estimate')\n",
    "plt.xlabel('Days since February 1')\n",
    "plt.ylabel('Total infections in Chicago')\n",
    "plt.legend()\n",
    "# plt.yscale('log')\n",
    "plt.show()"
   ]
  },
  {
   "cell_type": "markdown",
   "metadata": {},
   "source": [
    "Calculate the expected number of deaths."
   ]
  },
  {
   "cell_type": "code",
   "execution_count": null,
   "metadata": {},
   "outputs": [],
   "source": [
    "Y = np.array([get_percentile_at_t(time, 50) for time in range(num_days)])"
   ]
  },
  {
   "cell_type": "code",
   "execution_count": null,
   "metadata": {},
   "outputs": [],
   "source": [
    "test = IFR * np.matmul(np.matmul(Y, \n",
    "                                 incubation_mat), \n",
    "                       delay_mat)"
   ]
  },
  {
   "cell_type": "code",
   "execution_count": null,
   "metadata": {},
   "outputs": [],
   "source": [
    "plt.plot(test)\n",
    "plt.plot(death_list)\n",
    "plt.show()"
   ]
  },
  {
   "cell_type": "code",
   "execution_count": null,
   "metadata": {},
   "outputs": [],
   "source": [
    "plt.plot(test)\n",
    "plt.plot(death_list)\n",
    "plt.yscale('log')\n",
    "plt.show()"
   ]
  },
  {
   "cell_type": "markdown",
   "metadata": {},
   "source": [
    "Looks like a good fit, but the last few days show signs that the slope has decreased."
   ]
  },
  {
   "cell_type": "code",
   "execution_count": null,
   "metadata": {},
   "outputs": [],
   "source": []
  }
 ],
 "metadata": {
  "kernelspec": {
   "display_name": "Python [conda env:pymc] *",
   "language": "python",
   "name": "conda-env-pymc-py"
  },
  "language_info": {
   "codemirror_mode": {
    "name": "ipython",
    "version": 3
   },
   "file_extension": ".py",
   "mimetype": "text/x-python",
   "name": "python",
   "nbconvert_exporter": "python",
   "pygments_lexer": "ipython3",
   "version": "3.8.2"
  }
 },
 "nbformat": 4,
 "nbformat_minor": 4
}
