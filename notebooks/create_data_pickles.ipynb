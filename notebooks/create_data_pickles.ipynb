{
 "cells": [
  {
   "cell_type": "code",
   "execution_count": 1,
   "metadata": {},
   "outputs": [],
   "source": [
    "from collections import defaultdict\n",
    "import pickle\n",
    "from datetime import datetime, timedelta\n",
    "\n",
    "import pandas as pd"
   ]
  },
  {
   "cell_type": "markdown",
   "metadata": {},
   "source": [
    "### Chicago\n",
    "Data source for Chicago:\n",
    "\n",
    "https://www.chicago.gov/city/en/sites/covid-19/home/latest-data.html\n",
    "\n",
    "There is also a CSV at https://data.cityofchicago.org/Health-Human-Services/Daily-COVID-19-Cases-and-Deaths/kxzd-kd6a, but this appears to be based on reported dates for deaths, which is not clean."
   ]
  },
  {
   "cell_type": "markdown",
   "metadata": {},
   "source": [
    "Create a dict of the form {days from Feb 29: number of deaths}, and save it as a pandas DataFrame starting with Feb 1 to the end of the dict."
   ]
  },
  {
   "cell_type": "code",
   "execution_count": 38,
   "metadata": {},
   "outputs": [],
   "source": [
    "chi_death_dict = defaultdict(int, {16: 1, 17: 1, 18: 1, 19: 2, 21: 2,\n",
    "                                   22: 2, 23: 2, 24: 2, 25: 5, 26: 2,\n",
    "                                   27: 7, 28: 4, 29: 21, 30: 12,\n",
    "                                   31: 16, 32: 24, 33: 14, 34: 25,\n",
    "                                   35: 21, 36: 26, 37: 22, 38: 25,\n",
    "                                   39: 34, 40: 26, 41: 30, 42: 33,\n",
    "                                   43: 32, 44: 32, 45: 33, 46: 31,\n",
    "                                   47: 30, 48: 36, 49: 36, 50: 34,\n",
    "                                   51: 35, 52: 31, 53: 45, 54: 33,\n",
    "                                   55: 49, 56: 35, 57: 46, 58: 31,\n",
    "                                   59: 45, 60: 39, 61: 31, 62: 33,\n",
    "                                   63: 46, 64: 37, 65: 45, 66: 50,\n",
    "                                   67: 39, 68: 34, 69: 27, 70: 30,\n",
    "                                   71: 11})"
   ]
  },
  {
   "cell_type": "code",
   "execution_count": 39,
   "metadata": {},
   "outputs": [],
   "source": [
    "chi_last_day = max(chi_death_dict.keys())"
   ]
  },
  {
   "cell_type": "code",
   "execution_count": 40,
   "metadata": {},
   "outputs": [],
   "source": [
    "chi_index = [datetime(2020, 2, 1) + timedelta(days=day) for day in range(29 + chi_last_day)]\n",
    "chi_deaths =[chi_death_dict[day - 28] for day in range(29 + chi_last_day)]"
   ]
  },
  {
   "cell_type": "code",
   "execution_count": 41,
   "metadata": {},
   "outputs": [],
   "source": [
    "chi_death_df = pd.DataFrame(chi_deaths, index=chi_index, columns=['deaths'])"
   ]
  },
  {
   "cell_type": "code",
   "execution_count": 42,
   "metadata": {},
   "outputs": [
    {
     "data": {
      "text/html": [
       "<div>\n",
       "<style scoped>\n",
       "    .dataframe tbody tr th:only-of-type {\n",
       "        vertical-align: middle;\n",
       "    }\n",
       "\n",
       "    .dataframe tbody tr th {\n",
       "        vertical-align: top;\n",
       "    }\n",
       "\n",
       "    .dataframe thead th {\n",
       "        text-align: right;\n",
       "    }\n",
       "</style>\n",
       "<table border=\"1\" class=\"dataframe\">\n",
       "  <thead>\n",
       "    <tr style=\"text-align: right;\">\n",
       "      <th></th>\n",
       "      <th>deaths</th>\n",
       "    </tr>\n",
       "  </thead>\n",
       "  <tbody>\n",
       "    <tr>\n",
       "      <th>2020-05-06</th>\n",
       "      <td>39</td>\n",
       "    </tr>\n",
       "    <tr>\n",
       "      <th>2020-05-07</th>\n",
       "      <td>34</td>\n",
       "    </tr>\n",
       "    <tr>\n",
       "      <th>2020-05-08</th>\n",
       "      <td>27</td>\n",
       "    </tr>\n",
       "    <tr>\n",
       "      <th>2020-05-09</th>\n",
       "      <td>30</td>\n",
       "    </tr>\n",
       "    <tr>\n",
       "      <th>2020-05-10</th>\n",
       "      <td>11</td>\n",
       "    </tr>\n",
       "  </tbody>\n",
       "</table>\n",
       "</div>"
      ],
      "text/plain": [
       "            deaths\n",
       "2020-05-06      39\n",
       "2020-05-07      34\n",
       "2020-05-08      27\n",
       "2020-05-09      30\n",
       "2020-05-10      11"
      ]
     },
     "execution_count": 42,
     "metadata": {},
     "output_type": "execute_result"
    }
   ],
   "source": [
    "# Inspect that last few days\n",
    "chi_death_df.tail()"
   ]
  },
  {
   "cell_type": "code",
   "execution_count": 43,
   "metadata": {},
   "outputs": [],
   "source": [
    "chi_death_df.to_pickle('../data/chi_deaths.pickle')"
   ]
  },
  {
   "cell_type": "code",
   "execution_count": null,
   "metadata": {},
   "outputs": [],
   "source": []
  }
 ],
 "metadata": {
  "kernelspec": {
   "display_name": "Python [conda env:pymc] *",
   "language": "python",
   "name": "conda-env-pymc-py"
  },
  "language_info": {
   "codemirror_mode": {
    "name": "ipython",
    "version": 3
   },
   "file_extension": ".py",
   "mimetype": "text/x-python",
   "name": "python",
   "nbconvert_exporter": "python",
   "pygments_lexer": "ipython3",
   "version": "3.8.2"
  }
 },
 "nbformat": 4,
 "nbformat_minor": 4
}
