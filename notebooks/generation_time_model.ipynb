{
 "cells": [
  {
   "cell_type": "markdown",
   "metadata": {},
   "source": [
    "## Model description"
   ]
  },
  {
   "cell_type": "markdown",
   "metadata": {},
   "source": [
    "This builds on `exponential_model.ipynb` by considering the generation interval distribution, i.e. the distribution in the time it takes for an infection to lead to another infection. The assumptions are as follows:\n",
    "\n",
    "1. There is an initial number, `N_0`, of new infections on the 0th day.\n",
    "2. Each infection is itself an infector, leading to `R_0` expected secondary infections. `R_0` is the basic reproduction number.\n",
    "3. Number of days between a primary infection and its secondary infections follows the generation interval distribution.\n",
    "4. A fraction (IFR, infection fatality rate) of new infections are expected to turn into deaths.\n",
    "5. Deaths occur after an incubation period then a delay time from illness onset to death. These periods have predefined distributions, and the number of expected deaths on a given date is a convolution of the new infection over time with these 2 distributions.\n",
    "6. Given the number of expected deaths on each day, the number of deaths is modeled as a Poisson process, and fit to the data.\n",
    "\n",
    "Only the assumptions 2 and 3 are modified from the exponential model, but now the undetermined parameters are `N_0` and `R_0`, rather than `N_0` and the exponential coefficient of growth."
   ]
  },
  {
   "cell_type": "code",
   "execution_count": 1,
   "metadata": {},
   "outputs": [],
   "source": [
    "from collections import defaultdict\n",
    "\n",
    "import numpy as np\n",
    "import pandas as pd\n",
    "import matplotlib.pyplot as plt\n",
    "import pymc3 as pm\n",
    "\n",
    "import covid_19.covid_func as cf"
   ]
  },
  {
   "cell_type": "markdown",
   "metadata": {},
   "source": [
    "Data source for Chicago:\n",
    "\n",
    "https://www.chicago.gov/city/en/sites/covid-19/home/latest-data.html\n",
    "\n",
    "Pickle file is created in `create_data_pickles.ipynb` notebook.\n",
    "\n",
    "Note that these numbers for Chicago do get updated even more than a week after the fact. It appears that they are trying to record accurate dates for these deaths, rather than simply keeping track of when they were reported/announced. This is not always the case for other agencies."
   ]
  },
  {
   "cell_type": "code",
   "execution_count": 2,
   "metadata": {},
   "outputs": [],
   "source": [
    "death_df = pd.read_pickle('../data/chi_deaths.pickle')"
   ]
  },
  {
   "cell_type": "code",
   "execution_count": 3,
   "metadata": {},
   "outputs": [
    {
     "data": {
      "text/html": [
       "<div>\n",
       "<style scoped>\n",
       "    .dataframe tbody tr th:only-of-type {\n",
       "        vertical-align: middle;\n",
       "    }\n",
       "\n",
       "    .dataframe tbody tr th {\n",
       "        vertical-align: top;\n",
       "    }\n",
       "\n",
       "    .dataframe thead th {\n",
       "        text-align: right;\n",
       "    }\n",
       "</style>\n",
       "<table border=\"1\" class=\"dataframe\">\n",
       "  <thead>\n",
       "    <tr style=\"text-align: right;\">\n",
       "      <th></th>\n",
       "      <th>deaths</th>\n",
       "    </tr>\n",
       "  </thead>\n",
       "  <tbody>\n",
       "    <tr>\n",
       "      <th>2020-04-05</th>\n",
       "      <td>28</td>\n",
       "    </tr>\n",
       "    <tr>\n",
       "      <th>2020-04-06</th>\n",
       "      <td>15</td>\n",
       "    </tr>\n",
       "    <tr>\n",
       "      <th>2020-04-07</th>\n",
       "      <td>22</td>\n",
       "    </tr>\n",
       "    <tr>\n",
       "      <th>2020-04-08</th>\n",
       "      <td>30</td>\n",
       "    </tr>\n",
       "    <tr>\n",
       "      <th>2020-04-09</th>\n",
       "      <td>19</td>\n",
       "    </tr>\n",
       "    <tr>\n",
       "      <th>2020-04-10</th>\n",
       "      <td>23</td>\n",
       "    </tr>\n",
       "    <tr>\n",
       "      <th>2020-04-11</th>\n",
       "      <td>20</td>\n",
       "    </tr>\n",
       "    <tr>\n",
       "      <th>2020-04-12</th>\n",
       "      <td>24</td>\n",
       "    </tr>\n",
       "    <tr>\n",
       "      <th>2020-04-13</th>\n",
       "      <td>12</td>\n",
       "    </tr>\n",
       "    <tr>\n",
       "      <th>2020-04-14</th>\n",
       "      <td>1</td>\n",
       "    </tr>\n",
       "  </tbody>\n",
       "</table>\n",
       "</div>"
      ],
      "text/plain": [
       "            deaths\n",
       "2020-04-05      28\n",
       "2020-04-06      15\n",
       "2020-04-07      22\n",
       "2020-04-08      30\n",
       "2020-04-09      19\n",
       "2020-04-10      23\n",
       "2020-04-11      20\n",
       "2020-04-12      24\n",
       "2020-04-13      12\n",
       "2020-04-14       1"
      ]
     },
     "execution_count": 3,
     "metadata": {},
     "output_type": "execute_result"
    }
   ],
   "source": [
    "death_df.iloc[-10:]"
   ]
  },
  {
   "cell_type": "code",
   "execution_count": 4,
   "metadata": {},
   "outputs": [],
   "source": [
    "# Drop later rows when it appears that they have not been updated fully\n",
    "death_df = death_df.iloc[:-3]"
   ]
  },
  {
   "cell_type": "code",
   "execution_count": 5,
   "metadata": {},
   "outputs": [],
   "source": [
    "num_days = len(death_df)"
   ]
  },
  {
   "cell_type": "code",
   "execution_count": 7,
   "metadata": {},
   "outputs": [],
   "source": [
    "death_list = list(death_df['deaths'])"
   ]
  },
  {
   "cell_type": "markdown",
   "metadata": {},
   "source": [
    "#### Do a convolution"
   ]
  },
  {
   "cell_type": "markdown",
   "metadata": {},
   "source": [
    "Incubation period from https://www.mdpi.com/2077-0383/9/2/538:\n",
    "\n",
    "Lognormal distribution with mean 5.6 days, SD 2.8 days."
   ]
  },
  {
   "cell_type": "code",
   "execution_count": 8,
   "metadata": {},
   "outputs": [],
   "source": [
    "# Use lognorm_pdf function defined in covid_func.py\n",
    "mean_i = 5.6\n",
    "sd_i = 2.8\n",
    "\n",
    "incubation_pdf = cf.lognorm_pdf(mean_i, sd_i)"
   ]
  },
  {
   "cell_type": "code",
   "execution_count": 9,
   "metadata": {},
   "outputs": [],
   "source": [
    "incubation_array = np.array([incubation_pdf(x) for x in range(num_days)])"
   ]
  },
  {
   "cell_type": "markdown",
   "metadata": {},
   "source": [
    "Onset-to-death delay from https://www.sciencedirect.com/science/article/pii/S1473309920302437\n",
    "\n",
    "Gamma function with mean 17.8 days, coefficient of variation 0.45."
   ]
  },
  {
   "cell_type": "code",
   "execution_count": 10,
   "metadata": {},
   "outputs": [],
   "source": [
    "# Use gamma_pdf function defined in covid_func.py\n",
    "mean_d = 17.8\n",
    "cov_d = 0.45\n",
    "sd_d = mean_d * cov_d\n",
    "\n",
    "delay_pdf = cf.gamma_pdf(mean_d, sd_d)"
   ]
  },
  {
   "cell_type": "code",
   "execution_count": 11,
   "metadata": {},
   "outputs": [],
   "source": [
    "delay_array = np.array([delay_pdf(x) for x in range(num_days)])"
   ]
  },
  {
   "cell_type": "markdown",
   "metadata": {},
   "source": [
    "Given an array of infections, create a transfer matrix that turns it in to an array of cases with symptoms. The function to do this is defined in `covid_func.py`.\n",
    "\n",
    "This is not exactly correct, as it ignores asymptotic cases, but I will multiply the whole array by the infection fatality rate (IFR) so the final answer will be modeled correctly."
   ]
  },
  {
   "cell_type": "code",
   "execution_count": 12,
   "metadata": {},
   "outputs": [],
   "source": [
    "incubation_mat = cf.create_delay_matrix(incubation_array, num_days)"
   ]
  },
  {
   "cell_type": "markdown",
   "metadata": {},
   "source": [
    "It looks like this."
   ]
  },
  {
   "cell_type": "code",
   "execution_count": 13,
   "metadata": {},
   "outputs": [
    {
     "data": {
      "text/plain": [
       "array([[0.        , 0.00251436, 0.06388876, 0.15624861, 0.18851108],\n",
       "       [0.        , 0.        , 0.00251436, 0.06388876, 0.15624861],\n",
       "       [0.        , 0.        , 0.        , 0.00251436, 0.06388876],\n",
       "       [0.        , 0.        , 0.        , 0.        , 0.00251436],\n",
       "       [0.        , 0.        , 0.        , 0.        , 0.        ]])"
      ]
     },
     "execution_count": 13,
     "metadata": {},
     "output_type": "execute_result"
    }
   ],
   "source": [
    "incubation_mat[:5,:5]"
   ]
  },
  {
   "cell_type": "markdown",
   "metadata": {},
   "source": [
    "Similarly"
   ]
  },
  {
   "cell_type": "code",
   "execution_count": 14,
   "metadata": {},
   "outputs": [],
   "source": [
    "delay_mat = cf.create_delay_matrix(delay_array, num_days)"
   ]
  },
  {
   "cell_type": "code",
   "execution_count": 15,
   "metadata": {},
   "outputs": [],
   "source": [
    "transfer_mat = np.matmul(incubation_mat, delay_mat)"
   ]
  },
  {
   "cell_type": "markdown",
   "metadata": {},
   "source": [
    "#### Generation interval"
   ]
  },
  {
   "cell_type": "markdown",
   "metadata": {},
   "source": [
    "Following https://www.medrxiv.org/content/10.1101/2020.03.05.20031815v1 (Table 3 for Singapore), I'll take the generation interval to be drawn from a Gamma distribution, with mean 3.86 days, SD 2.65 days.\n",
    "\n",
    "This is one of the shorter estimates of the generation interval (or serial interval), and shorter generation intervals lead to faster growth for the same R_0. So, in terms of fitting to some data, assuming a shorter generation interval leads to a larger R_0."
   ]
  },
  {
   "cell_type": "code",
   "execution_count": 18,
   "metadata": {},
   "outputs": [],
   "source": [
    "mean_g = 3.86\n",
    "sd_g = 2.65\n",
    "\n",
    "generation_pdf = cf.gamma_pdf(mean_g, sd_g)"
   ]
  },
  {
   "cell_type": "code",
   "execution_count": 20,
   "metadata": {},
   "outputs": [],
   "source": [
    "generation_array = np.array([generation_pdf(x)\n",
    "                             for x in range(num_days)])"
   ]
  },
  {
   "cell_type": "markdown",
   "metadata": {},
   "source": [
    "At first, you have an array of infections, `[N_0, 0, 0, ...]`. You then multiply by R0 * generation_array to get the new infections generated from that first patient.\n",
    "\n",
    "Add these patients to the infections array, then you multiply the 2nd element by a shifted version of generation_array, to get the new infections from those people.\n",
    "\n",
    "This requires a successive multiplication by matrices. `create_infection_tensor` is a 3 dimensional array whose n-th element is the n-th matrix required in this process."
   ]
  },
  {
   "cell_type": "code",
   "execution_count": 26,
   "metadata": {},
   "outputs": [],
   "source": [
    "def create_infection_tensor(num_days=num_days,\n",
    "                            generation_array=generation_array):\n",
    "    \"\"\"Given num_days,\n",
    "    return array of infection matrices so that\n",
    "    multiplying the initial vector [1., 0., 0., ...]\n",
    "    by result[0] * R0 and adding the last vector,\n",
    "    multiplying by result[1] * R0 and adding the last vector, ... \n",
    "    recursively results in the predicted number of new infections for each day.\"\"\"\n",
    "    list_of_matrices = []\n",
    "    for index in range(num_days):\n",
    "        non_zero_row = np.concatenate([np.zeros(index),\n",
    "                                       generation_array[:num_days-index]]).reshape((1, num_days))\n",
    "        matrix = np.vstack([np.zeros((index, num_days)),\n",
    "                            non_zero_row,\n",
    "                            np.zeros((num_days - index - 1, num_days))])\n",
    "        list_of_matrices.append(matrix)\n",
    "    return np.stack(list_of_matrices)"
   ]
  },
  {
   "cell_type": "markdown",
   "metadata": {},
   "source": [
    "Create a new model"
   ]
  },
  {
   "cell_type": "code",
   "execution_count": 27,
   "metadata": {},
   "outputs": [],
   "source": [
    "infection_tensor = create_infection_tensor()"
   ]
  },
  {
   "cell_type": "code",
   "execution_count": 30,
   "metadata": {},
   "outputs": [],
   "source": [
    "with pm.Model() as model:\n",
    "    N_0 = pm.Exponential('initial', lam=1.)\n",
    "    R_0 = pm.Normal('R_0', mu=3., sd=2.)\n",
    "    N_array = N_0 * np.array([1.] + [0.] * (num_days - 1))\n",
    "    \n",
    "    for tensor in infection_tensor[:-1]:\n",
    "        N_array += R_0 * pm.math.matrix_dot(N_array,\n",
    "                                            tensor)\n",
    "        \n",
    "    IFR = 0.011\n",
    "    \n",
    "    exp_deaths = IFR * pm.math.matrix_dot(N_array,\n",
    "                                          incubation_mat, \n",
    "                                          delay_mat)"
   ]
  },
  {
   "cell_type": "code",
   "execution_count": 31,
   "metadata": {},
   "outputs": [],
   "source": [
    "with model:\n",
    "    D = pm.Poisson('deaths', mu=exp_deaths, observed=death_list)"
   ]
  },
  {
   "cell_type": "code",
   "execution_count": 32,
   "metadata": {},
   "outputs": [
    {
     "name": "stderr",
     "output_type": "stream",
     "text": [
      "Multiprocess sampling (2 chains in 2 jobs)\n",
      "NUTS: [R_0, initial]\n",
      "Sampling 2 chains, 0 divergences: 100%|██████████| 40000/40000 [08:58<00:00, 74.22draws/s] \n",
      "The number of effective samples is smaller than 25% for some parameters.\n"
     ]
    }
   ],
   "source": [
    "with model:\n",
    "    step = pm.NUTS()\n",
    "    trace = pm.sample(10000, tune=10000, step=step)"
   ]
  },
  {
   "cell_type": "code",
   "execution_count": 33,
   "metadata": {},
   "outputs": [
    {
     "name": "stderr",
     "output_type": "stream",
     "text": [
      "/Users/satoru/miniconda3/envs/pymc/lib/python3.8/site-packages/arviz/plots/backends/matplotlib/distplot.py:36: UserWarning: Argument backend_kwargs has not effect in matplotlib.plot_distSupplied value won't be used\n",
      "  warnings.warn(\n",
      "/Users/satoru/miniconda3/envs/pymc/lib/python3.8/site-packages/arviz/plots/backends/matplotlib/distplot.py:36: UserWarning: Argument backend_kwargs has not effect in matplotlib.plot_distSupplied value won't be used\n",
      "  warnings.warn(\n",
      "/Users/satoru/miniconda3/envs/pymc/lib/python3.8/site-packages/arviz/plots/backends/matplotlib/distplot.py:36: UserWarning: Argument backend_kwargs has not effect in matplotlib.plot_distSupplied value won't be used\n",
      "  warnings.warn(\n",
      "/Users/satoru/miniconda3/envs/pymc/lib/python3.8/site-packages/arviz/plots/backends/matplotlib/distplot.py:36: UserWarning: Argument backend_kwargs has not effect in matplotlib.plot_distSupplied value won't be used\n",
      "  warnings.warn(\n"
     ]
    },
    {
     "data": {
      "image/png": "[encoded data removed]",
      "text/plain": [
       "<Figure size 864x288 with 4 Axes>"
      ]
     },
     "metadata": {
      "needs_background": "light"
     },
     "output_type": "display_data"
    }
   ],
   "source": [
    "pm.traceplot(trace)\n",
    "plt.show()"
   ]
  },
  {
   "cell_type": "code",
   "execution_count": 34,
   "metadata": {},
   "outputs": [],
   "source": [
    "initial_array = np.array(trace['initial'])\n",
    "R_0_array = np.array(trace['R_0'])"
   ]
  },
  {
   "cell_type": "markdown",
   "metadata": {},
   "source": [
    "Create a function outside pymc to calculate prediction given N_0 and R_0."
   ]
  },
  {
   "cell_type": "code",
   "execution_count": 35,
   "metadata": {},
   "outputs": [],
   "source": [
    "def give_predicted_infections(N_0, R_0,\n",
    "                              num_days=num_days):\n",
    "    N_array = N_0 * np.array([1.] + [0.] * (num_days - 1))\n",
    "    infection_tensor = create_infection_tensor(num_days)\n",
    "    \n",
    "    for tensor in infection_tensor[:-1]:\n",
    "        N_array += R_0 * np.matmul(N_array, tensor)\n",
    "        \n",
    "    return N_array"
   ]
  },
  {
   "cell_type": "code",
   "execution_count": 36,
   "metadata": {},
   "outputs": [],
   "source": [
    "median_N_0 = np.median(initial_array)\n",
    "median_R_0 = np.median(R_0_array)"
   ]
  },
  {
   "cell_type": "code",
   "execution_count": 37,
   "metadata": {},
   "outputs": [
    {
     "data": {
      "text/plain": [
       "6.847677238407453"
      ]
     },
     "execution_count": 37,
     "metadata": {},
     "output_type": "execute_result"
    }
   ],
   "source": [
    "median_N_0"
   ]
  },
  {
   "cell_type": "code",
   "execution_count": 38,
   "metadata": {},
   "outputs": [
    {
     "data": {
      "text/plain": [
       "1.7041365118759917"
      ]
     },
     "execution_count": 38,
     "metadata": {},
     "output_type": "execute_result"
    }
   ],
   "source": [
    "median_R_0"
   ]
  },
  {
   "cell_type": "code",
   "execution_count": 39,
   "metadata": {},
   "outputs": [],
   "source": [
    "median_pred = give_predicted_infections(N_0=median_N_0,\n",
    "                                        R_0=median_R_0)"
   ]
  },
  {
   "cell_type": "code",
   "execution_count": 40,
   "metadata": {},
   "outputs": [
    {
     "data": {
      "image/png": "[encoded data removed]",
      "text/plain": [
       "<Figure size 432x288 with 1 Axes>"
      ]
     },
     "metadata": {
      "needs_background": "light"
     },
     "output_type": "display_data"
    }
   ],
   "source": [
    "plt.plot(median_pred)\n",
    "plt.yscale('log')\n",
    "plt.show()"
   ]
  },
  {
   "cell_type": "code",
   "execution_count": 41,
   "metadata": {},
   "outputs": [
    {
     "data": {
      "text/plain": [
       "3530.172638802189"
      ]
     },
     "execution_count": 41,
     "metadata": {},
     "output_type": "execute_result"
    }
   ],
   "source": [
    "2.8e6 / median_pred[12 + 28]"
   ]
  },
  {
   "cell_type": "markdown",
   "metadata": {},
   "source": [
    "Yep, this model also suggests a more than half an order of magnitude mistake for me."
   ]
  },
  {
   "cell_type": "code",
   "execution_count": 42,
   "metadata": {},
   "outputs": [],
   "source": [
    "def give_predicted_deaths(N_0, R_0, IFR=0.011,\n",
    "                          incubation_mat=incubation_mat,\n",
    "                          delay_mat=delay_mat,\n",
    "                          num_days=num_days):\n",
    "    N_array = give_predicted_infections(N_0=N_0, R_0=R_0,\n",
    "                                        num_days=num_days)\n",
    "    \n",
    "    return IFR * np.matmul(np.matmul(N_array, incubation_mat),\n",
    "                           delay_mat)"
   ]
  },
  {
   "cell_type": "code",
   "execution_count": 43,
   "metadata": {},
   "outputs": [],
   "source": [
    "pred = give_predicted_deaths(median_N_0, median_R_0)"
   ]
  },
  {
   "cell_type": "code",
   "execution_count": 44,
   "metadata": {},
   "outputs": [
    {
     "data": {
      "image/png": "[encoded data removed]",
      "text/plain": [
       "<Figure size 432x288 with 1 Axes>"
      ]
     },
     "metadata": {
      "needs_background": "light"
     },
     "output_type": "display_data"
    }
   ],
   "source": [
    "plt.plot(pred)\n",
    "plt.plot(death_list)\n",
    "plt.show()"
   ]
  },
  {
   "cell_type": "code",
   "execution_count": null,
   "metadata": {},
   "outputs": [],
   "source": []
  }
 ],
 "metadata": {
  "kernelspec": {
   "display_name": "Python [conda env:pymc] *",
   "language": "python",
   "name": "conda-env-pymc-py"
  },
  "language_info": {
   "codemirror_mode": {
    "name": "ipython",
    "version": 3
   },
   "file_extension": ".py",
   "mimetype": "text/x-python",
   "name": "python",
   "nbconvert_exporter": "python",
   "pygments_lexer": "ipython3",
   "version": "3.8.2"
  }
 },
 "nbformat": 4,
 "nbformat_minor": 4
}
